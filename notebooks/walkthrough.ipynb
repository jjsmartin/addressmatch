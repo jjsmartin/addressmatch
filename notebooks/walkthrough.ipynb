{
 "cells": [
  {
   "cell_type": "markdown",
   "id": "2f85a76c",
   "metadata": {},
   "source": [
    "# Walkthrough\n",
    "\n",
    "Take some **fictional** name / address data, which we imagine has come from different sources and therefore isn't always the same, and figure out which ones refer to the same thing."
   ]
  },
  {
   "cell_type": "code",
   "execution_count": 1,
   "id": "09455773",
   "metadata": {},
   "outputs": [],
   "source": [
    "import sys\n",
    "sys.path.append('../src')"
   ]
  },
  {
   "cell_type": "code",
   "execution_count": 3,
   "id": "947ee36f",
   "metadata": {},
   "outputs": [],
   "source": [
    "import pandas as pd\n",
    "from normalisation import (\n",
    "    normalise_names, \n",
    "    normalise_addresses, \n",
    "    split_address\n",
    ")\n",
    "from helpers import (\n",
    "    save_all_normalised,\n",
    "    read_all_normalised,\n",
    "    read_normalised\n",
    ")"
   ]
  },
  {
   "cell_type": "code",
   "execution_count": 4,
   "id": "15c08529",
   "metadata": {},
   "outputs": [],
   "source": [
    "DATA_FOLDER = '../data'\n",
    "INPUT_FOLDER = f'{DATA_FOLDER}/input'\n",
    "NORMALISED_FOLDER = f'{DATA_FOLDER}/normalised'\n",
    "OUTPUT_FOLDER = f'{DATA_FOLDER}/output'"
   ]
  },
  {
   "cell_type": "markdown",
   "id": "03d7f59d",
   "metadata": {},
   "source": [
    "## Load some (fictional data)\n",
    "\n",
    "Small amount of LLM-generated names and addresses, covering two postcodes."
   ]
  },
  {
   "cell_type": "code",
   "execution_count": 5,
   "id": "749eb234",
   "metadata": {},
   "outputs": [],
   "source": [
    "restaurants = pd.read_csv(f'{INPUT_FOLDER}/restaurants.csv')"
   ]
  },
  {
   "cell_type": "code",
   "execution_count": 6,
   "id": "e4b0852b",
   "metadata": {},
   "outputs": [],
   "source": [
    "# add a unique identifier for each restaurant\n",
    "import hashlib\n",
    "def deterministic_row_id(row):\n",
    "    pieces = [str(row.name)] + [str(v) for v in row.values]\n",
    "    text = \"|\".join(pieces)  # delimiter can be anything unambiguous\n",
    "    return hashlib.md5(text.encode(\"utf-8\")).hexdigest()\n",
    "\n",
    "# Apply row-wise to get a new column of IDs\n",
    "restaurants['id'] = restaurants.apply(deterministic_row_id, axis=1)\n",
    "\n",
    "# make sure the id in the first column\n",
    "restaurants.insert(0, 'id', restaurants.pop('id'))"
   ]
  },
  {
   "cell_type": "code",
   "execution_count": 7,
   "id": "b7491057",
   "metadata": {},
   "outputs": [
    {
     "data": {
      "text/html": [
       "<div>\n",
       "<style scoped>\n",
       "    .dataframe tbody tr th:only-of-type {\n",
       "        vertical-align: middle;\n",
       "    }\n",
       "\n",
       "    .dataframe tbody tr th {\n",
       "        vertical-align: top;\n",
       "    }\n",
       "\n",
       "    .dataframe thead th {\n",
       "        text-align: right;\n",
       "    }\n",
       "</style>\n",
       "<table border=\"1\" class=\"dataframe\">\n",
       "  <thead>\n",
       "    <tr style=\"text-align: right;\">\n",
       "      <th></th>\n",
       "      <th>id</th>\n",
       "      <th>name</th>\n",
       "      <th>address</th>\n",
       "    </tr>\n",
       "  </thead>\n",
       "  <tbody>\n",
       "    <tr>\n",
       "      <th>0</th>\n",
       "      <td>b6413c2b889bf7f4df0255df4dddfb43</td>\n",
       "      <td>Maple Palace Cafe</td>\n",
       "      <td>58 College Road, SW4 5VA</td>\n",
       "    </tr>\n",
       "    <tr>\n",
       "      <th>1</th>\n",
       "      <td>2d29b645a21b5a5d9e1809e8c2e48274</td>\n",
       "      <td>Maple Palace Cagfe</td>\n",
       "      <td>58 Czollege Road, SW45VA</td>\n",
       "    </tr>\n",
       "    <tr>\n",
       "      <th>2</th>\n",
       "      <td>4cfbf0de688327baa977dc1111af41bd</td>\n",
       "      <td>Maplge Palace Cafe</td>\n",
       "      <td>58 College Rd, SW4 5VA</td>\n",
       "    </tr>\n",
       "    <tr>\n",
       "      <th>3</th>\n",
       "      <td>b4941ace111cbd25bc01342bfbbb1103</td>\n",
       "      <td>Maple Palace Cafqe</td>\n",
       "      <td>58 ollege Rd, SW45VA</td>\n",
       "    </tr>\n",
       "    <tr>\n",
       "      <th>4</th>\n",
       "      <td>a0375e1f98da5112b291ce24039fd515</td>\n",
       "      <td>Maple Palace Café</td>\n",
       "      <td>58 Cgllege Road, SW45VA</td>\n",
       "    </tr>\n",
       "    <tr>\n",
       "      <th>...</th>\n",
       "      <td>...</td>\n",
       "      <td>...</td>\n",
       "      <td>...</td>\n",
       "    </tr>\n",
       "    <tr>\n",
       "      <th>95</th>\n",
       "      <td>1aadb5fad5a463fdcbf6784812675b16</td>\n",
       "      <td>CrownBridge Restaurant</td>\n",
       "      <td>7 Anegl Rd, SW4 1ZY</td>\n",
       "    </tr>\n",
       "    <tr>\n",
       "      <th>96</th>\n",
       "      <td>335f20db366bf88af53190525a5d9730</td>\n",
       "      <td>Crown Bridge Restaurant</td>\n",
       "      <td>7 Angel Road, SW4 1ZY</td>\n",
       "    </tr>\n",
       "    <tr>\n",
       "      <th>97</th>\n",
       "      <td>5f604fff751f1c3042bf2dafa9f5cabe</td>\n",
       "      <td>Crown Bridge Restaurant</td>\n",
       "      <td>7 Angel Road, SW4 1ZY</td>\n",
       "    </tr>\n",
       "    <tr>\n",
       "      <th>98</th>\n",
       "      <td>602e316cdad470323211180ab874b60e</td>\n",
       "      <td>Crown Bridge Restaurant</td>\n",
       "      <td>7 Angel Roadj, SW4 1ZY</td>\n",
       "    </tr>\n",
       "    <tr>\n",
       "      <th>99</th>\n",
       "      <td>3e1f1f0c8dbaac516f1a8cf75d508870</td>\n",
       "      <td>Crown Bridge Restaurant</td>\n",
       "      <td>7 Angel Road, SW4 1ZY</td>\n",
       "    </tr>\n",
       "  </tbody>\n",
       "</table>\n",
       "<p>100 rows × 3 columns</p>\n",
       "</div>"
      ],
      "text/plain": [
       "                                  id                     name  \\\n",
       "0   b6413c2b889bf7f4df0255df4dddfb43        Maple Palace Cafe   \n",
       "1   2d29b645a21b5a5d9e1809e8c2e48274       Maple Palace Cagfe   \n",
       "2   4cfbf0de688327baa977dc1111af41bd       Maplge Palace Cafe   \n",
       "3   b4941ace111cbd25bc01342bfbbb1103       Maple Palace Cafqe   \n",
       "4   a0375e1f98da5112b291ce24039fd515        Maple Palace Café   \n",
       "..                               ...                      ...   \n",
       "95  1aadb5fad5a463fdcbf6784812675b16   CrownBridge Restaurant   \n",
       "96  335f20db366bf88af53190525a5d9730  Crown Bridge Restaurant   \n",
       "97  5f604fff751f1c3042bf2dafa9f5cabe  Crown Bridge Restaurant   \n",
       "98  602e316cdad470323211180ab874b60e  Crown Bridge Restaurant   \n",
       "99  3e1f1f0c8dbaac516f1a8cf75d508870  Crown Bridge Restaurant   \n",
       "\n",
       "                     address  \n",
       "0   58 College Road, SW4 5VA  \n",
       "1   58 Czollege Road, SW45VA  \n",
       "2     58 College Rd, SW4 5VA  \n",
       "3       58 ollege Rd, SW45VA  \n",
       "4    58 Cgllege Road, SW45VA  \n",
       "..                       ...  \n",
       "95       7 Anegl Rd, SW4 1ZY  \n",
       "96     7 Angel Road, SW4 1ZY  \n",
       "97     7 Angel Road, SW4 1ZY  \n",
       "98    7 Angel Roadj, SW4 1ZY  \n",
       "99     7 Angel Road, SW4 1ZY  \n",
       "\n",
       "[100 rows x 3 columns]"
      ]
     },
     "execution_count": 7,
     "metadata": {},
     "output_type": "execute_result"
    }
   ],
   "source": [
    "restaurants"
   ]
  },
  {
   "cell_type": "markdown",
   "id": "f449b9f9",
   "metadata": {},
   "source": [
    "## Normalise the data\n",
    "\n",
    "Consistent capitalisation, split out postcode etc"
   ]
  },
  {
   "cell_type": "code",
   "execution_count": 8,
   "id": "508e3762",
   "metadata": {},
   "outputs": [],
   "source": [
    "split = split_address(restaurants['address'])  \n",
    "\n",
    "restaurants = (\n",
    "    restaurants\n",
    "      .assign(\n",
    "          name = lambda df: normalise_names(df.name),\n",
    "          address = normalise_addresses(split['address_no_postcode']),\n",
    "        )\n",
    "      .join(split['postcode'])\n",
    "      \n",
    ")"
   ]
  },
  {
   "cell_type": "code",
   "execution_count": 9,
   "id": "76e787c1",
   "metadata": {},
   "outputs": [],
   "source": [
    "# We'll group by this when doing the deduplication, so we don't have to \n",
    "# compare every pair of restaurants.\n",
    "restaurants['outcode'] = restaurants['postcode'].str.split(' ').str[0]"
   ]
  },
  {
   "cell_type": "code",
   "execution_count": 10,
   "id": "6c39b2fe",
   "metadata": {},
   "outputs": [],
   "source": [
    "# replace some common abbreviations\n",
    "restaurants['address'] = (\n",
    "    restaurants['address']\n",
    "      .str.replace('St ', 'Street ', regex=False)\n",
    "      .str.replace('Rd ', 'Road ', regex=False)\n",
    "      .str.replace('Ave ', 'Avenue ', regex=False)\n",
    "      .str.replace('Dr ', 'Drive ', regex=False)\n",
    ")"
   ]
  },
  {
   "cell_type": "markdown",
   "id": "9f797802",
   "metadata": {},
   "source": [
    "## Save the normalized data\n",
    "\n",
    "For each group being compared (in this case, defined by outcode), save the normalised data as a csv.\n",
    "\n",
    "From now on, we'll work with one group at a time."
   ]
  },
  {
   "cell_type": "code",
   "execution_count": 11,
   "id": "f5a21b3a",
   "metadata": {},
   "outputs": [],
   "source": [
    "save_all_normalised(restaurants, NORMALISED_FOLDER)"
   ]
  },
  {
   "cell_type": "code",
   "execution_count": 55,
   "id": "58598fc2",
   "metadata": {},
   "outputs": [],
   "source": [
    "group = read_normalised('SW4', NORMALISED_FOLDER)"
   ]
  },
  {
   "cell_type": "markdown",
   "id": "6fb400a7",
   "metadata": {},
   "source": [
    "## Pairwise similarity\n",
    "\n",
    "Within each postcode, compare all pairs and get at similarity score in the 0-1 range."
   ]
  },
  {
   "cell_type": "code",
   "execution_count": 56,
   "id": "b3a624e0",
   "metadata": {},
   "outputs": [],
   "source": [
    "# cosine similarity \n",
    "import numpy as np\n",
    "from sklearn.feature_extraction.text import TfidfVectorizer\n",
    "from sklearn.metrics.pairwise import cosine_similarity\n",
    "\n",
    "# use 2 and 3-grams for the names and addresses\n",
    "# to capture more of the structure of the text\n",
    "def get_cosine_similarity(series: pd.Series) -> np.ndarray:\n",
    "    vectorizer = TfidfVectorizer(\n",
    "        ngram_range=(2, 3),  # use 2-grams and 3-grams\n",
    "        stop_words='english',  # remove common English stop words\n",
    "        lowercase=True,  # convert to lowercase\n",
    "        min_df=1,  # include terms that appear in at least one document\n",
    "    )\n",
    "    tfidf_matrix = vectorizer.fit_transform(series)\n",
    "    cosine_sim = cosine_similarity(tfidf_matrix, tfidf_matrix)\n",
    "    return cosine_sim\n",
    "\n",
    "# compare all pairs of restaurant *names* in the group\n",
    "name_cosine_sim = get_cosine_similarity(group.name)\n",
    "address_cosine_sim = get_cosine_similarity(group.address)\n",
    "\n",
    "\n"
   ]
  },
  {
   "cell_type": "markdown",
   "id": "8270a1a7",
   "metadata": {},
   "source": [
    "## Graph\n",
    "\n",
    "Create a graph where the nodes are the locations and edges are the similarity scores. Remove edges where similarity is beneath some threshold, then find connected components - which we take to be multiple references to a single location.\n",
    "\n",
    "(This is also a convenient step to manually add or remove pairs, if we happen to know certain locations are or are not the same)"
   ]
  },
  {
   "cell_type": "code",
   "execution_count": 57,
   "id": "a6175f50",
   "metadata": {},
   "outputs": [],
   "source": [
    "import networkx as nx\n",
    "\n",
    "# create a graph from the cosine similarity matrices\n",
    "G = nx.Graph()\n",
    "\n",
    "# add edges for pairs of restaurants where both name and address cosine similarity are above a threshold\n",
    "name_threshold = 0.1\n",
    "address_threshold = 0.1\n",
    "\n",
    "# number of restaurants in the group\n",
    "n = group.shape[0]\n",
    "\n",
    "for i in range(n):\n",
    "    for j in range(i + 1, n):\n",
    "        if name_cosine_sim[i, j] >= name_threshold and address_cosine_sim[i, j] >= address_threshold:\n",
    "            G.add_edge(group.iloc[i]['id'], group.iloc[j]['id'])"
   ]
  },
  {
   "cell_type": "code",
   "execution_count": 58,
   "id": "6cb9aef5",
   "metadata": {},
   "outputs": [
    {
     "data": {
      "image/png": "[encoded data removed]",
      "text/plain": [
       "<Figure size 800x800 with 1 Axes>"
      ]
     },
     "metadata": {},
     "output_type": "display_data"
    }
   ],
   "source": [
    "# draw the graph -- just for visualisation (with more than a few notes it's an illegible hairball)\n",
    "import matplotlib.pyplot as plt\n",
    "\n",
    "plt.figure(figsize=(8, 8))\n",
    "pos = nx.spring_layout(G)  \n",
    "nx.draw_networkx_nodes(G, pos, node_size=500)\n",
    "nx.draw_networkx_edges(G, pos, width=1.0, alpha=0.5)\n",
    "nx.draw_networkx_labels(G, pos, font_size=10)\n",
    "plt.title('Cosine Similarity Graph for Restaurants in SW4')\n",
    "plt.show()"
   ]
  },
  {
   "cell_type": "markdown",
   "id": "81601153",
   "metadata": {},
   "source": [
    "## Identify duplicates\n",
    "\n",
    "We'll say that connected components in our graph are duplicates."
   ]
  },
  {
   "cell_type": "code",
   "execution_count": 59,
   "id": "587ee0ef",
   "metadata": {},
   "outputs": [],
   "source": [
    "connected_components = list(nx.connected_components(G))"
   ]
  },
  {
   "cell_type": "code",
   "execution_count": 61,
   "id": "93a694ec",
   "metadata": {},
   "outputs": [],
   "source": [
    "# convert the connected components to a lookup dictionary, where the key is the first restaurant id in the component and the value is a list of all restaurant ids in that component (including the key)\n",
    "def connected_components_to_lookup(components):\n",
    "    lookup = {}\n",
    "    for component in components:\n",
    "        first_id = next(iter(component))  # get the first id in the component\n",
    "        lookup[first_id] = list(component)  # convert the set to a list\n",
    "    return lookup\n",
    "\n",
    "lookup = connected_components_to_lookup(connected_components)"
   ]
  },
  {
   "cell_type": "code",
   "execution_count": 62,
   "id": "a323be8c",
   "metadata": {},
   "outputs": [],
   "source": [
    "# create a new group ID column in the group DataFrame\n",
    "group['group_id'] = group['id'].map(lambda x: next((k for k, v in lookup.items() if x in v), x))\n",
    "\n",
    "# make sure the id in the first column\n",
    "group.insert(0, 'group_id', group.pop('group_id'))"
   ]
  },
  {
   "cell_type": "code",
   "execution_count": 63,
   "id": "39ca8e8b",
   "metadata": {},
   "outputs": [],
   "source": [
    "# sort by the group id so we can see the groups together\n",
    "group = group.sort_values(by='group_id').reset_index(drop=True)"
   ]
  },
  {
   "cell_type": "markdown",
   "id": "77c393ae",
   "metadata": {},
   "source": [
    "## Results"
   ]
  },
  {
   "cell_type": "code",
   "execution_count": 67,
   "id": "57c05d69",
   "metadata": {},
   "outputs": [
    {
     "name": "stdout",
     "output_type": "stream",
     "text": [
      "Group ID: 09a6117985e2a177185947747763e5f2\n"
     ]
    },
    {
     "data": {
      "text/html": [
       "<div>\n",
       "<style scoped>\n",
       "    .dataframe tbody tr th:only-of-type {\n",
       "        vertical-align: middle;\n",
       "    }\n",
       "\n",
       "    .dataframe tbody tr th {\n",
       "        vertical-align: top;\n",
       "    }\n",
       "\n",
       "    .dataframe thead th {\n",
       "        text-align: right;\n",
       "    }\n",
       "</style>\n",
       "<table border=\"1\" class=\"dataframe\">\n",
       "  <thead>\n",
       "    <tr style=\"text-align: right;\">\n",
       "      <th></th>\n",
       "      <th>id</th>\n",
       "      <th>name</th>\n",
       "      <th>address</th>\n",
       "      <th>postcode</th>\n",
       "    </tr>\n",
       "  </thead>\n",
       "  <tbody>\n",
       "    <tr>\n",
       "      <th>0</th>\n",
       "      <td>09a6117985e2a177185947747763e5f2</td>\n",
       "      <td>happy bridfge cafe</td>\n",
       "      <td>93 colleae rd</td>\n",
       "      <td>SW4 8GM</td>\n",
       "    </tr>\n",
       "  </tbody>\n",
       "</table>\n",
       "</div>"
      ],
      "text/plain": [
       "                                 id                name        address  \\\n",
       "0  09a6117985e2a177185947747763e5f2  happy bridfge cafe  93 colleae rd   \n",
       "\n",
       "  postcode  \n",
       "0  SW4 8GM  "
      ]
     },
     "metadata": {},
     "output_type": "display_data"
    },
    {
     "name": "stdout",
     "output_type": "stream",
     "text": [
      "Group ID: 10f57478175fa979e4907ff7af327575\n"
     ]
    },
    {
     "data": {
      "text/html": [
       "<div>\n",
       "<style scoped>\n",
       "    .dataframe tbody tr th:only-of-type {\n",
       "        vertical-align: middle;\n",
       "    }\n",
       "\n",
       "    .dataframe tbody tr th {\n",
       "        vertical-align: top;\n",
       "    }\n",
       "\n",
       "    .dataframe thead th {\n",
       "        text-align: right;\n",
       "    }\n",
       "</style>\n",
       "<table border=\"1\" class=\"dataframe\">\n",
       "  <thead>\n",
       "    <tr style=\"text-align: right;\">\n",
       "      <th></th>\n",
       "      <th>id</th>\n",
       "      <th>name</th>\n",
       "      <th>address</th>\n",
       "      <th>postcode</th>\n",
       "    </tr>\n",
       "  </thead>\n",
       "  <tbody>\n",
       "    <tr>\n",
       "      <th>1</th>\n",
       "      <td>7e7800715a38c4494a36bf3bdd7662a0</td>\n",
       "      <td>maple table inn</td>\n",
       "      <td>29 high street</td>\n",
       "      <td>SW4 2SB</td>\n",
       "    </tr>\n",
       "    <tr>\n",
       "      <th>2</th>\n",
       "      <td>9474de6ff36bda1259ed26922dc0620e</td>\n",
       "      <td>maple table inn</td>\n",
       "      <td>29 high street</td>\n",
       "      <td>SW4 2SB</td>\n",
       "    </tr>\n",
       "    <tr>\n",
       "      <th>3</th>\n",
       "      <td>77bbfa6315002d35447e1ec9ede1eb7e</td>\n",
       "      <td>mpale table inn</td>\n",
       "      <td>29 high street</td>\n",
       "      <td>SW4 2SB</td>\n",
       "    </tr>\n",
       "    <tr>\n",
       "      <th>4</th>\n",
       "      <td>8785c5c0473956c144f4eaada69ad517</td>\n",
       "      <td>maple table inn</td>\n",
       "      <td>29 high street</td>\n",
       "      <td>SW4 2SB</td>\n",
       "    </tr>\n",
       "    <tr>\n",
       "      <th>5</th>\n",
       "      <td>10f57478175fa979e4907ff7af327575</td>\n",
       "      <td>naple table inn</td>\n",
       "      <td>29 high street</td>\n",
       "      <td>SW4 2SB</td>\n",
       "    </tr>\n",
       "  </tbody>\n",
       "</table>\n",
       "</div>"
      ],
      "text/plain": [
       "                                 id             name         address postcode\n",
       "1  7e7800715a38c4494a36bf3bdd7662a0  maple table inn  29 high street  SW4 2SB\n",
       "2  9474de6ff36bda1259ed26922dc0620e  maple table inn  29 high street  SW4 2SB\n",
       "3  77bbfa6315002d35447e1ec9ede1eb7e  mpale table inn  29 high street  SW4 2SB\n",
       "4  8785c5c0473956c144f4eaada69ad517  maple table inn  29 high street  SW4 2SB\n",
       "5  10f57478175fa979e4907ff7af327575  naple table inn  29 high street  SW4 2SB"
      ]
     },
     "metadata": {},
     "output_type": "display_data"
    },
    {
     "name": "stdout",
     "output_type": "stream",
     "text": [
      "Group ID: 1145ffc505b01f2590791ee8da278ab6\n"
     ]
    },
    {
     "data": {
      "text/html": [
       "<div>\n",
       "<style scoped>\n",
       "    .dataframe tbody tr th:only-of-type {\n",
       "        vertical-align: middle;\n",
       "    }\n",
       "\n",
       "    .dataframe tbody tr th {\n",
       "        vertical-align: top;\n",
       "    }\n",
       "\n",
       "    .dataframe thead th {\n",
       "        text-align: right;\n",
       "    }\n",
       "</style>\n",
       "<table border=\"1\" class=\"dataframe\">\n",
       "  <thead>\n",
       "    <tr style=\"text-align: right;\">\n",
       "      <th></th>\n",
       "      <th>id</th>\n",
       "      <th>name</th>\n",
       "      <th>address</th>\n",
       "      <th>postcode</th>\n",
       "    </tr>\n",
       "  </thead>\n",
       "  <tbody>\n",
       "    <tr>\n",
       "      <th>6</th>\n",
       "      <td>0307d4af2ade51ad8bafbbb645248800</td>\n",
       "      <td>grand palace inn</td>\n",
       "      <td>9 waterloo road</td>\n",
       "      <td>SW4 7PM</td>\n",
       "    </tr>\n",
       "    <tr>\n",
       "      <th>7</th>\n",
       "      <td>1145ffc505b01f2590791ee8da278ab6</td>\n",
       "      <td>grand palace inn</td>\n",
       "      <td>9 waterloo road</td>\n",
       "      <td>SW4 7PM</td>\n",
       "    </tr>\n",
       "    <tr>\n",
       "      <th>8</th>\n",
       "      <td>7095968e304d90d5d557fc8e4812ed3e</td>\n",
       "      <td>grand palace inn</td>\n",
       "      <td>9 waterloo road</td>\n",
       "      <td>SW4 7PM</td>\n",
       "    </tr>\n",
       "    <tr>\n",
       "      <th>9</th>\n",
       "      <td>4a08c07a4505499d97edfbfd5f15b54e</td>\n",
       "      <td>grand palace inn</td>\n",
       "      <td>9 waterloo road</td>\n",
       "      <td>SW4 7PM</td>\n",
       "    </tr>\n",
       "  </tbody>\n",
       "</table>\n",
       "</div>"
      ],
      "text/plain": [
       "                                 id              name          address  \\\n",
       "6  0307d4af2ade51ad8bafbbb645248800  grand palace inn  9 waterloo road   \n",
       "7  1145ffc505b01f2590791ee8da278ab6  grand palace inn  9 waterloo road   \n",
       "8  7095968e304d90d5d557fc8e4812ed3e  grand palace inn  9 waterloo road   \n",
       "9  4a08c07a4505499d97edfbfd5f15b54e  grand palace inn  9 waterloo road   \n",
       "\n",
       "  postcode  \n",
       "6  SW4 7PM  \n",
       "7  SW4 7PM  \n",
       "8  SW4 7PM  \n",
       "9  SW4 7PM  "
      ]
     },
     "metadata": {},
     "output_type": "display_data"
    },
    {
     "name": "stdout",
     "output_type": "stream",
     "text": [
      "Group ID: 19895323a974a4406b02fd7455a2ae13\n"
     ]
    },
    {
     "data": {
      "text/html": [
       "<div>\n",
       "<style scoped>\n",
       "    .dataframe tbody tr th:only-of-type {\n",
       "        vertical-align: middle;\n",
       "    }\n",
       "\n",
       "    .dataframe tbody tr th {\n",
       "        vertical-align: top;\n",
       "    }\n",
       "\n",
       "    .dataframe thead th {\n",
       "        text-align: right;\n",
       "    }\n",
       "</style>\n",
       "<table border=\"1\" class=\"dataframe\">\n",
       "  <thead>\n",
       "    <tr style=\"text-align: right;\">\n",
       "      <th></th>\n",
       "      <th>id</th>\n",
       "      <th>name</th>\n",
       "      <th>address</th>\n",
       "      <th>postcode</th>\n",
       "    </tr>\n",
       "  </thead>\n",
       "  <tbody>\n",
       "    <tr>\n",
       "      <th>10</th>\n",
       "      <td>19895323a974a4406b02fd7455a2ae13</td>\n",
       "      <td>maple bridgebistro</td>\n",
       "      <td>96 college road</td>\n",
       "      <td>SW4 7XK</td>\n",
       "    </tr>\n",
       "  </tbody>\n",
       "</table>\n",
       "</div>"
      ],
      "text/plain": [
       "                                  id                name          address  \\\n",
       "10  19895323a974a4406b02fd7455a2ae13  maple bridgebistro  96 college road   \n",
       "\n",
       "   postcode  \n",
       "10  SW4 7XK  "
      ]
     },
     "metadata": {},
     "output_type": "display_data"
    },
    {
     "name": "stdout",
     "output_type": "stream",
     "text": [
      "Group ID: 1aadb5fad5a463fdcbf6784812675b16\n"
     ]
    },
    {
     "data": {
      "text/html": [
       "<div>\n",
       "<style scoped>\n",
       "    .dataframe tbody tr th:only-of-type {\n",
       "        vertical-align: middle;\n",
       "    }\n",
       "\n",
       "    .dataframe tbody tr th {\n",
       "        vertical-align: top;\n",
       "    }\n",
       "\n",
       "    .dataframe thead th {\n",
       "        text-align: right;\n",
       "    }\n",
       "</style>\n",
       "<table border=\"1\" class=\"dataframe\">\n",
       "  <thead>\n",
       "    <tr style=\"text-align: right;\">\n",
       "      <th></th>\n",
       "      <th>id</th>\n",
       "      <th>name</th>\n",
       "      <th>address</th>\n",
       "      <th>postcode</th>\n",
       "    </tr>\n",
       "  </thead>\n",
       "  <tbody>\n",
       "    <tr>\n",
       "      <th>11</th>\n",
       "      <td>1aadb5fad5a463fdcbf6784812675b16</td>\n",
       "      <td>crownbridge restaurant</td>\n",
       "      <td>7 anegl rd</td>\n",
       "      <td>SW4 1ZY</td>\n",
       "    </tr>\n",
       "  </tbody>\n",
       "</table>\n",
       "</div>"
      ],
      "text/plain": [
       "                                  id                    name     address  \\\n",
       "11  1aadb5fad5a463fdcbf6784812675b16  crownbridge restaurant  7 anegl rd   \n",
       "\n",
       "   postcode  \n",
       "11  SW4 1ZY  "
      ]
     },
     "metadata": {},
     "output_type": "display_data"
    },
    {
     "name": "stdout",
     "output_type": "stream",
     "text": [
      "Group ID: 1b892dc4a4acc6921cda0a1768a19064\n"
     ]
    },
    {
     "data": {
      "text/html": [
       "<div>\n",
       "<style scoped>\n",
       "    .dataframe tbody tr th:only-of-type {\n",
       "        vertical-align: middle;\n",
       "    }\n",
       "\n",
       "    .dataframe tbody tr th {\n",
       "        vertical-align: top;\n",
       "    }\n",
       "\n",
       "    .dataframe thead th {\n",
       "        text-align: right;\n",
       "    }\n",
       "</style>\n",
       "<table border=\"1\" class=\"dataframe\">\n",
       "  <thead>\n",
       "    <tr style=\"text-align: right;\">\n",
       "      <th></th>\n",
       "      <th>id</th>\n",
       "      <th>name</th>\n",
       "      <th>address</th>\n",
       "      <th>postcode</th>\n",
       "    </tr>\n",
       "  </thead>\n",
       "  <tbody>\n",
       "    <tr>\n",
       "      <th>12</th>\n",
       "      <td>1b892dc4a4acc6921cda0a1768a19064</td>\n",
       "      <td>oak palace cafe</td>\n",
       "      <td>70 victoria road</td>\n",
       "      <td>SW4 5KR</td>\n",
       "    </tr>\n",
       "  </tbody>\n",
       "</table>\n",
       "</div>"
      ],
      "text/plain": [
       "                                  id             name           address  \\\n",
       "12  1b892dc4a4acc6921cda0a1768a19064  oak palace cafe  70 victoria road   \n",
       "\n",
       "   postcode  \n",
       "12  SW4 5KR  "
      ]
     },
     "metadata": {},
     "output_type": "display_data"
    },
    {
     "name": "stdout",
     "output_type": "stream",
     "text": [
      "Group ID: 1caf97dc90c454330a89f4ecedee73ae\n"
     ]
    },
    {
     "data": {
      "text/html": [
       "<div>\n",
       "<style scoped>\n",
       "    .dataframe tbody tr th:only-of-type {\n",
       "        vertical-align: middle;\n",
       "    }\n",
       "\n",
       "    .dataframe tbody tr th {\n",
       "        vertical-align: top;\n",
       "    }\n",
       "\n",
       "    .dataframe thead th {\n",
       "        text-align: right;\n",
       "    }\n",
       "</style>\n",
       "<table border=\"1\" class=\"dataframe\">\n",
       "  <thead>\n",
       "    <tr style=\"text-align: right;\">\n",
       "      <th></th>\n",
       "      <th>id</th>\n",
       "      <th>name</th>\n",
       "      <th>address</th>\n",
       "      <th>postcode</th>\n",
       "    </tr>\n",
       "  </thead>\n",
       "  <tbody>\n",
       "    <tr>\n",
       "      <th>13</th>\n",
       "      <td>1caf97dc90c454330a89f4ecedee73ae</td>\n",
       "      <td>river bistro grill</td>\n",
       "      <td>9 church street</td>\n",
       "      <td>SW4 4UZ</td>\n",
       "    </tr>\n",
       "  </tbody>\n",
       "</table>\n",
       "</div>"
      ],
      "text/plain": [
       "                                  id                name          address  \\\n",
       "13  1caf97dc90c454330a89f4ecedee73ae  river bistro grill  9 church street   \n",
       "\n",
       "   postcode  \n",
       "13  SW4 4UZ  "
      ]
     },
     "metadata": {},
     "output_type": "display_data"
    },
    {
     "name": "stdout",
     "output_type": "stream",
     "text": [
      "Group ID: 2bc0b30d110d1109de1c1b0a97b8ab45\n"
     ]
    },
    {
     "data": {
      "text/html": [
       "<div>\n",
       "<style scoped>\n",
       "    .dataframe tbody tr th:only-of-type {\n",
       "        vertical-align: middle;\n",
       "    }\n",
       "\n",
       "    .dataframe tbody tr th {\n",
       "        vertical-align: top;\n",
       "    }\n",
       "\n",
       "    .dataframe thead th {\n",
       "        text-align: right;\n",
       "    }\n",
       "</style>\n",
       "<table border=\"1\" class=\"dataframe\">\n",
       "  <thead>\n",
       "    <tr style=\"text-align: right;\">\n",
       "      <th></th>\n",
       "      <th>id</th>\n",
       "      <th>name</th>\n",
       "      <th>address</th>\n",
       "      <th>postcode</th>\n",
       "    </tr>\n",
       "  </thead>\n",
       "  <tbody>\n",
       "    <tr>\n",
       "      <th>14</th>\n",
       "      <td>5f1fc4fad9c5f8519a534edbbb151bdb</td>\n",
       "      <td>maple bridge bistro</td>\n",
       "      <td>96 college road</td>\n",
       "      <td>SW4 7XK</td>\n",
       "    </tr>\n",
       "    <tr>\n",
       "      <th>15</th>\n",
       "      <td>2bc0b30d110d1109de1c1b0a97b8ab45</td>\n",
       "      <td>maple bridge bistro</td>\n",
       "      <td>96 college road</td>\n",
       "      <td>SW4 7XK</td>\n",
       "    </tr>\n",
       "  </tbody>\n",
       "</table>\n",
       "</div>"
      ],
      "text/plain": [
       "                                  id                 name          address  \\\n",
       "14  5f1fc4fad9c5f8519a534edbbb151bdb  maple bridge bistro  96 college road   \n",
       "15  2bc0b30d110d1109de1c1b0a97b8ab45  maple bridge bistro  96 college road   \n",
       "\n",
       "   postcode  \n",
       "14  SW4 7XK  \n",
       "15  SW4 7XK  "
      ]
     },
     "metadata": {},
     "output_type": "display_data"
    },
    {
     "name": "stdout",
     "output_type": "stream",
     "text": [
      "Group ID: 2d29b645a21b5a5d9e1809e8c2e48274\n"
     ]
    },
    {
     "data": {
      "text/html": [
       "<div>\n",
       "<style scoped>\n",
       "    .dataframe tbody tr th:only-of-type {\n",
       "        vertical-align: middle;\n",
       "    }\n",
       "\n",
       "    .dataframe tbody tr th {\n",
       "        vertical-align: top;\n",
       "    }\n",
       "\n",
       "    .dataframe thead th {\n",
       "        text-align: right;\n",
       "    }\n",
       "</style>\n",
       "<table border=\"1\" class=\"dataframe\">\n",
       "  <thead>\n",
       "    <tr style=\"text-align: right;\">\n",
       "      <th></th>\n",
       "      <th>id</th>\n",
       "      <th>name</th>\n",
       "      <th>address</th>\n",
       "      <th>postcode</th>\n",
       "    </tr>\n",
       "  </thead>\n",
       "  <tbody>\n",
       "    <tr>\n",
       "      <th>16</th>\n",
       "      <td>2d29b645a21b5a5d9e1809e8c2e48274</td>\n",
       "      <td>maple palace cagfe</td>\n",
       "      <td>58 czollege road</td>\n",
       "      <td>SW4 5VA</td>\n",
       "    </tr>\n",
       "  </tbody>\n",
       "</table>\n",
       "</div>"
      ],
      "text/plain": [
       "                                  id                name           address  \\\n",
       "16  2d29b645a21b5a5d9e1809e8c2e48274  maple palace cagfe  58 czollege road   \n",
       "\n",
       "   postcode  \n",
       "16  SW4 5VA  "
      ]
     },
     "metadata": {},
     "output_type": "display_data"
    },
    {
     "name": "stdout",
     "output_type": "stream",
     "text": [
      "Group ID: 3e1f1f0c8dbaac516f1a8cf75d508870\n"
     ]
    },
    {
     "data": {
      "text/html": [
       "<div>\n",
       "<style scoped>\n",
       "    .dataframe tbody tr th:only-of-type {\n",
       "        vertical-align: middle;\n",
       "    }\n",
       "\n",
       "    .dataframe tbody tr th {\n",
       "        vertical-align: top;\n",
       "    }\n",
       "\n",
       "    .dataframe thead th {\n",
       "        text-align: right;\n",
       "    }\n",
       "</style>\n",
       "<table border=\"1\" class=\"dataframe\">\n",
       "  <thead>\n",
       "    <tr style=\"text-align: right;\">\n",
       "      <th></th>\n",
       "      <th>id</th>\n",
       "      <th>name</th>\n",
       "      <th>address</th>\n",
       "      <th>postcode</th>\n",
       "    </tr>\n",
       "  </thead>\n",
       "  <tbody>\n",
       "    <tr>\n",
       "      <th>17</th>\n",
       "      <td>5f604fff751f1c3042bf2dafa9f5cabe</td>\n",
       "      <td>crown bridge restaurant</td>\n",
       "      <td>7 angel road</td>\n",
       "      <td>SW4 1ZY</td>\n",
       "    </tr>\n",
       "    <tr>\n",
       "      <th>18</th>\n",
       "      <td>335f20db366bf88af53190525a5d9730</td>\n",
       "      <td>crown bridge restaurant</td>\n",
       "      <td>7 angel road</td>\n",
       "      <td>SW4 1ZY</td>\n",
       "    </tr>\n",
       "    <tr>\n",
       "      <th>19</th>\n",
       "      <td>3e1f1f0c8dbaac516f1a8cf75d508870</td>\n",
       "      <td>crown bridge restaurant</td>\n",
       "      <td>7 angel road</td>\n",
       "      <td>SW4 1ZY</td>\n",
       "    </tr>\n",
       "    <tr>\n",
       "      <th>20</th>\n",
       "      <td>af43fd55b39c13cf1f8ac43f3d792f47</td>\n",
       "      <td>crown bridge restaurant</td>\n",
       "      <td>7 angel road</td>\n",
       "      <td>SW4 1ZY</td>\n",
       "    </tr>\n",
       "  </tbody>\n",
       "</table>\n",
       "</div>"
      ],
      "text/plain": [
       "                                  id                     name       address  \\\n",
       "17  5f604fff751f1c3042bf2dafa9f5cabe  crown bridge restaurant  7 angel road   \n",
       "18  335f20db366bf88af53190525a5d9730  crown bridge restaurant  7 angel road   \n",
       "19  3e1f1f0c8dbaac516f1a8cf75d508870  crown bridge restaurant  7 angel road   \n",
       "20  af43fd55b39c13cf1f8ac43f3d792f47  crown bridge restaurant  7 angel road   \n",
       "\n",
       "   postcode  \n",
       "17  SW4 1ZY  \n",
       "18  SW4 1ZY  \n",
       "19  SW4 1ZY  \n",
       "20  SW4 1ZY  "
      ]
     },
     "metadata": {},
     "output_type": "display_data"
    },
    {
     "name": "stdout",
     "output_type": "stream",
     "text": [
      "Group ID: 4392a772aa74ffd4da08bc80cc29b50b\n"
     ]
    },
    {
     "data": {
      "text/html": [
       "<div>\n",
       "<style scoped>\n",
       "    .dataframe tbody tr th:only-of-type {\n",
       "        vertical-align: middle;\n",
       "    }\n",
       "\n",
       "    .dataframe tbody tr th {\n",
       "        vertical-align: top;\n",
       "    }\n",
       "\n",
       "    .dataframe thead th {\n",
       "        text-align: right;\n",
       "    }\n",
       "</style>\n",
       "<table border=\"1\" class=\"dataframe\">\n",
       "  <thead>\n",
       "    <tr style=\"text-align: right;\">\n",
       "      <th></th>\n",
       "      <th>id</th>\n",
       "      <th>name</th>\n",
       "      <th>address</th>\n",
       "      <th>postcode</th>\n",
       "    </tr>\n",
       "  </thead>\n",
       "  <tbody>\n",
       "    <tr>\n",
       "      <th>21</th>\n",
       "      <td>4392a772aa74ffd4da08bc80cc29b50b</td>\n",
       "      <td>green spoon restarant</td>\n",
       "      <td>52 green lane</td>\n",
       "      <td>SW4 2GE</td>\n",
       "    </tr>\n",
       "    <tr>\n",
       "      <th>22</th>\n",
       "      <td>758aa6262844495a1afbd660ed8676f9</td>\n",
       "      <td>green spoon restaurant</td>\n",
       "      <td>52 green lane</td>\n",
       "      <td>SW4 2GE</td>\n",
       "    </tr>\n",
       "    <tr>\n",
       "      <th>23</th>\n",
       "      <td>5c7c99a6ee8876b00a14c47ea5d2f0f6</td>\n",
       "      <td>green spoon restaurant</td>\n",
       "      <td>52 green lane</td>\n",
       "      <td>SW4 2GE</td>\n",
       "    </tr>\n",
       "    <tr>\n",
       "      <th>24</th>\n",
       "      <td>b72e8b860b154614b2f7b7d7c6736205</td>\n",
       "      <td>grene spoon restaurant</td>\n",
       "      <td>52 green lane</td>\n",
       "      <td>SW4 2GE</td>\n",
       "    </tr>\n",
       "    <tr>\n",
       "      <th>25</th>\n",
       "      <td>9ffec77082998d1907b73e9bcd1e78b7</td>\n",
       "      <td>green spoon rxstaurant</td>\n",
       "      <td>52 green lane</td>\n",
       "      <td>SW4 2GE</td>\n",
       "    </tr>\n",
       "  </tbody>\n",
       "</table>\n",
       "</div>"
      ],
      "text/plain": [
       "                                  id                    name        address  \\\n",
       "21  4392a772aa74ffd4da08bc80cc29b50b   green spoon restarant  52 green lane   \n",
       "22  758aa6262844495a1afbd660ed8676f9  green spoon restaurant  52 green lane   \n",
       "23  5c7c99a6ee8876b00a14c47ea5d2f0f6  green spoon restaurant  52 green lane   \n",
       "24  b72e8b860b154614b2f7b7d7c6736205  grene spoon restaurant  52 green lane   \n",
       "25  9ffec77082998d1907b73e9bcd1e78b7  green spoon rxstaurant  52 green lane   \n",
       "\n",
       "   postcode  \n",
       "21  SW4 2GE  \n",
       "22  SW4 2GE  \n",
       "23  SW4 2GE  \n",
       "24  SW4 2GE  \n",
       "25  SW4 2GE  "
      ]
     },
     "metadata": {},
     "output_type": "display_data"
    },
    {
     "name": "stdout",
     "output_type": "stream",
     "text": [
      "Group ID: 469c36880241500238830b74c608b2fe\n"
     ]
    },
    {
     "data": {
      "text/html": [
       "<div>\n",
       "<style scoped>\n",
       "    .dataframe tbody tr th:only-of-type {\n",
       "        vertical-align: middle;\n",
       "    }\n",
       "\n",
       "    .dataframe tbody tr th {\n",
       "        vertical-align: top;\n",
       "    }\n",
       "\n",
       "    .dataframe thead th {\n",
       "        text-align: right;\n",
       "    }\n",
       "</style>\n",
       "<table border=\"1\" class=\"dataframe\">\n",
       "  <thead>\n",
       "    <tr style=\"text-align: right;\">\n",
       "      <th></th>\n",
       "      <th>id</th>\n",
       "      <th>name</th>\n",
       "      <th>address</th>\n",
       "      <th>postcode</th>\n",
       "    </tr>\n",
       "  </thead>\n",
       "  <tbody>\n",
       "    <tr>\n",
       "      <th>26</th>\n",
       "      <td>469c36880241500238830b74c608b2fe</td>\n",
       "      <td>grand palace inn</td>\n",
       "      <td>9 waterloo rd</td>\n",
       "      <td>SW4 7PM</td>\n",
       "    </tr>\n",
       "  </tbody>\n",
       "</table>\n",
       "</div>"
      ],
      "text/plain": [
       "                                  id              name        address postcode\n",
       "26  469c36880241500238830b74c608b2fe  grand palace inn  9 waterloo rd  SW4 7PM"
      ]
     },
     "metadata": {},
     "output_type": "display_data"
    },
    {
     "name": "stdout",
     "output_type": "stream",
     "text": [
      "Group ID: 4cfbf0de688327baa977dc1111af41bd\n"
     ]
    },
    {
     "data": {
      "text/html": [
       "<div>\n",
       "<style scoped>\n",
       "    .dataframe tbody tr th:only-of-type {\n",
       "        vertical-align: middle;\n",
       "    }\n",
       "\n",
       "    .dataframe tbody tr th {\n",
       "        vertical-align: top;\n",
       "    }\n",
       "\n",
       "    .dataframe thead th {\n",
       "        text-align: right;\n",
       "    }\n",
       "</style>\n",
       "<table border=\"1\" class=\"dataframe\">\n",
       "  <thead>\n",
       "    <tr style=\"text-align: right;\">\n",
       "      <th></th>\n",
       "      <th>id</th>\n",
       "      <th>name</th>\n",
       "      <th>address</th>\n",
       "      <th>postcode</th>\n",
       "    </tr>\n",
       "  </thead>\n",
       "  <tbody>\n",
       "    <tr>\n",
       "      <th>27</th>\n",
       "      <td>b6413c2b889bf7f4df0255df4dddfb43</td>\n",
       "      <td>maple palace cafe</td>\n",
       "      <td>58 college road</td>\n",
       "      <td>SW4 5VA</td>\n",
       "    </tr>\n",
       "    <tr>\n",
       "      <th>28</th>\n",
       "      <td>4cfbf0de688327baa977dc1111af41bd</td>\n",
       "      <td>maplge palace cafe</td>\n",
       "      <td>58 college rd</td>\n",
       "      <td>SW4 5VA</td>\n",
       "    </tr>\n",
       "  </tbody>\n",
       "</table>\n",
       "</div>"
      ],
      "text/plain": [
       "                                  id                name          address  \\\n",
       "27  b6413c2b889bf7f4df0255df4dddfb43   maple palace cafe  58 college road   \n",
       "28  4cfbf0de688327baa977dc1111af41bd  maplge palace cafe    58 college rd   \n",
       "\n",
       "   postcode  \n",
       "27  SW4 5VA  \n",
       "28  SW4 5VA  "
      ]
     },
     "metadata": {},
     "output_type": "display_data"
    },
    {
     "name": "stdout",
     "output_type": "stream",
     "text": [
      "Group ID: 5b10fc0e9eddc5b269e9d871a79b0352\n"
     ]
    },
    {
     "data": {
      "text/html": [
       "<div>\n",
       "<style scoped>\n",
       "    .dataframe tbody tr th:only-of-type {\n",
       "        vertical-align: middle;\n",
       "    }\n",
       "\n",
       "    .dataframe tbody tr th {\n",
       "        vertical-align: top;\n",
       "    }\n",
       "\n",
       "    .dataframe thead th {\n",
       "        text-align: right;\n",
       "    }\n",
       "</style>\n",
       "<table border=\"1\" class=\"dataframe\">\n",
       "  <thead>\n",
       "    <tr style=\"text-align: right;\">\n",
       "      <th></th>\n",
       "      <th>id</th>\n",
       "      <th>name</th>\n",
       "      <th>address</th>\n",
       "      <th>postcode</th>\n",
       "    </tr>\n",
       "  </thead>\n",
       "  <tbody>\n",
       "    <tr>\n",
       "      <th>29</th>\n",
       "      <td>5b10fc0e9eddc5b269e9d871a79b0352</td>\n",
       "      <td>river bistro grilwl</td>\n",
       "      <td>9 church st</td>\n",
       "      <td>SW4 4UZ</td>\n",
       "    </tr>\n",
       "  </tbody>\n",
       "</table>\n",
       "</div>"
      ],
      "text/plain": [
       "                                  id                 name      address  \\\n",
       "29  5b10fc0e9eddc5b269e9d871a79b0352  river bistro grilwl  9 church st   \n",
       "\n",
       "   postcode  \n",
       "29  SW4 4UZ  "
      ]
     },
     "metadata": {},
     "output_type": "display_data"
    },
    {
     "name": "stdout",
     "output_type": "stream",
     "text": [
      "Group ID: 602e316cdad470323211180ab874b60e\n"
     ]
    },
    {
     "data": {
      "text/html": [
       "<div>\n",
       "<style scoped>\n",
       "    .dataframe tbody tr th:only-of-type {\n",
       "        vertical-align: middle;\n",
       "    }\n",
       "\n",
       "    .dataframe tbody tr th {\n",
       "        vertical-align: top;\n",
       "    }\n",
       "\n",
       "    .dataframe thead th {\n",
       "        text-align: right;\n",
       "    }\n",
       "</style>\n",
       "<table border=\"1\" class=\"dataframe\">\n",
       "  <thead>\n",
       "    <tr style=\"text-align: right;\">\n",
       "      <th></th>\n",
       "      <th>id</th>\n",
       "      <th>name</th>\n",
       "      <th>address</th>\n",
       "      <th>postcode</th>\n",
       "    </tr>\n",
       "  </thead>\n",
       "  <tbody>\n",
       "    <tr>\n",
       "      <th>30</th>\n",
       "      <td>602e316cdad470323211180ab874b60e</td>\n",
       "      <td>crown bridge restaurant</td>\n",
       "      <td>7 angel roadj</td>\n",
       "      <td>SW4 1ZY</td>\n",
       "    </tr>\n",
       "  </tbody>\n",
       "</table>\n",
       "</div>"
      ],
      "text/plain": [
       "                                  id                     name        address  \\\n",
       "30  602e316cdad470323211180ab874b60e  crown bridge restaurant  7 angel roadj   \n",
       "\n",
       "   postcode  \n",
       "30  SW4 1ZY  "
      ]
     },
     "metadata": {},
     "output_type": "display_data"
    },
    {
     "name": "stdout",
     "output_type": "stream",
     "text": [
      "Group ID: 6a43622f16480e4343e2f70129bb665b\n"
     ]
    },
    {
     "data": {
      "text/html": [
       "<div>\n",
       "<style scoped>\n",
       "    .dataframe tbody tr th:only-of-type {\n",
       "        vertical-align: middle;\n",
       "    }\n",
       "\n",
       "    .dataframe tbody tr th {\n",
       "        vertical-align: top;\n",
       "    }\n",
       "\n",
       "    .dataframe thead th {\n",
       "        text-align: right;\n",
       "    }\n",
       "</style>\n",
       "<table border=\"1\" class=\"dataframe\">\n",
       "  <thead>\n",
       "    <tr style=\"text-align: right;\">\n",
       "      <th></th>\n",
       "      <th>id</th>\n",
       "      <th>name</th>\n",
       "      <th>address</th>\n",
       "      <th>postcode</th>\n",
       "    </tr>\n",
       "  </thead>\n",
       "  <tbody>\n",
       "    <tr>\n",
       "      <th>31</th>\n",
       "      <td>7d41c52f1ca01e031cf086d737bc3c61</td>\n",
       "      <td>green table kitchen</td>\n",
       "      <td>5 green lane</td>\n",
       "      <td>SW4 7GF</td>\n",
       "    </tr>\n",
       "    <tr>\n",
       "      <th>32</th>\n",
       "      <td>6a43622f16480e4343e2f70129bb665b</td>\n",
       "      <td>green table kitchen</td>\n",
       "      <td>55 green lane</td>\n",
       "      <td>SW4 7GF</td>\n",
       "    </tr>\n",
       "    <tr>\n",
       "      <th>33</th>\n",
       "      <td>d73f939ef450f097a251a42cdbda7c3a</td>\n",
       "      <td>gdeen table kitchen</td>\n",
       "      <td>5 green lane</td>\n",
       "      <td>SW4 7GF</td>\n",
       "    </tr>\n",
       "    <tr>\n",
       "      <th>34</th>\n",
       "      <td>05578cbbffccbcce57833c3b15cd7c18</td>\n",
       "      <td>green table kitchken</td>\n",
       "      <td>5 green lane</td>\n",
       "      <td>SW4 7GF</td>\n",
       "    </tr>\n",
       "  </tbody>\n",
       "</table>\n",
       "</div>"
      ],
      "text/plain": [
       "                                  id                  name        address  \\\n",
       "31  7d41c52f1ca01e031cf086d737bc3c61   green table kitchen   5 green lane   \n",
       "32  6a43622f16480e4343e2f70129bb665b   green table kitchen  55 green lane   \n",
       "33  d73f939ef450f097a251a42cdbda7c3a   gdeen table kitchen   5 green lane   \n",
       "34  05578cbbffccbcce57833c3b15cd7c18  green table kitchken   5 green lane   \n",
       "\n",
       "   postcode  \n",
       "31  SW4 7GF  \n",
       "32  SW4 7GF  \n",
       "33  SW4 7GF  \n",
       "34  SW4 7GF  "
      ]
     },
     "metadata": {},
     "output_type": "display_data"
    },
    {
     "name": "stdout",
     "output_type": "stream",
     "text": [
      "Group ID: 6e987e427c38d158d139ad2ec4a9d6f9\n"
     ]
    },
    {
     "data": {
      "text/html": [
       "<div>\n",
       "<style scoped>\n",
       "    .dataframe tbody tr th:only-of-type {\n",
       "        vertical-align: middle;\n",
       "    }\n",
       "\n",
       "    .dataframe tbody tr th {\n",
       "        vertical-align: top;\n",
       "    }\n",
       "\n",
       "    .dataframe thead th {\n",
       "        text-align: right;\n",
       "    }\n",
       "</style>\n",
       "<table border=\"1\" class=\"dataframe\">\n",
       "  <thead>\n",
       "    <tr style=\"text-align: right;\">\n",
       "      <th></th>\n",
       "      <th>id</th>\n",
       "      <th>name</th>\n",
       "      <th>address</th>\n",
       "      <th>postcode</th>\n",
       "    </tr>\n",
       "  </thead>\n",
       "  <tbody>\n",
       "    <tr>\n",
       "      <th>35</th>\n",
       "      <td>9db10de59a4fdcf54a9a645019f94d82</td>\n",
       "      <td>city spoon bistro</td>\n",
       "      <td>56 park road</td>\n",
       "      <td>SW4 8AS</td>\n",
       "    </tr>\n",
       "    <tr>\n",
       "      <th>36</th>\n",
       "      <td>22a1e596a142261d6676008c5d7c80bf</td>\n",
       "      <td>city spoon bisitro</td>\n",
       "      <td>56 park road</td>\n",
       "      <td>SW4 8AS</td>\n",
       "    </tr>\n",
       "    <tr>\n",
       "      <th>37</th>\n",
       "      <td>fd86e52a44f70f558e3ddc418a795358</td>\n",
       "      <td>cityw spoon bistro</td>\n",
       "      <td>56 park rd</td>\n",
       "      <td>SW4 8AS</td>\n",
       "    </tr>\n",
       "    <tr>\n",
       "      <th>38</th>\n",
       "      <td>6e987e427c38d158d139ad2ec4a9d6f9</td>\n",
       "      <td>city spoon byistro</td>\n",
       "      <td>56 park road</td>\n",
       "      <td>SW4 8AS</td>\n",
       "    </tr>\n",
       "  </tbody>\n",
       "</table>\n",
       "</div>"
      ],
      "text/plain": [
       "                                  id                name       address  \\\n",
       "35  9db10de59a4fdcf54a9a645019f94d82   city spoon bistro  56 park road   \n",
       "36  22a1e596a142261d6676008c5d7c80bf  city spoon bisitro  56 park road   \n",
       "37  fd86e52a44f70f558e3ddc418a795358  cityw spoon bistro    56 park rd   \n",
       "38  6e987e427c38d158d139ad2ec4a9d6f9  city spoon byistro  56 park road   \n",
       "\n",
       "   postcode  \n",
       "35  SW4 8AS  \n",
       "36  SW4 8AS  \n",
       "37  SW4 8AS  \n",
       "38  SW4 8AS  "
      ]
     },
     "metadata": {},
     "output_type": "display_data"
    },
    {
     "name": "stdout",
     "output_type": "stream",
     "text": [
      "Group ID: 746cfff7452630314602b23af97ce825\n"
     ]
    },
    {
     "data": {
      "text/html": [
       "<div>\n",
       "<style scoped>\n",
       "    .dataframe tbody tr th:only-of-type {\n",
       "        vertical-align: middle;\n",
       "    }\n",
       "\n",
       "    .dataframe tbody tr th {\n",
       "        vertical-align: top;\n",
       "    }\n",
       "\n",
       "    .dataframe thead th {\n",
       "        text-align: right;\n",
       "    }\n",
       "</style>\n",
       "<table border=\"1\" class=\"dataframe\">\n",
       "  <thead>\n",
       "    <tr style=\"text-align: right;\">\n",
       "      <th></th>\n",
       "      <th>id</th>\n",
       "      <th>name</th>\n",
       "      <th>address</th>\n",
       "      <th>postcode</th>\n",
       "    </tr>\n",
       "  </thead>\n",
       "  <tbody>\n",
       "    <tr>\n",
       "      <th>39</th>\n",
       "      <td>746cfff7452630314602b23af97ce825</td>\n",
       "      <td>green thble kitchen</td>\n",
       "      <td>5 gree lane</td>\n",
       "      <td>SW4 7GF</td>\n",
       "    </tr>\n",
       "  </tbody>\n",
       "</table>\n",
       "</div>"
      ],
      "text/plain": [
       "                                  id                 name      address  \\\n",
       "39  746cfff7452630314602b23af97ce825  green thble kitchen  5 gree lane   \n",
       "\n",
       "   postcode  \n",
       "39  SW4 7GF  "
      ]
     },
     "metadata": {},
     "output_type": "display_data"
    },
    {
     "name": "stdout",
     "output_type": "stream",
     "text": [
      "Group ID: 7a4a607a43052d1010b1770404ed9665\n"
     ]
    },
    {
     "data": {
      "text/html": [
       "<div>\n",
       "<style scoped>\n",
       "    .dataframe tbody tr th:only-of-type {\n",
       "        vertical-align: middle;\n",
       "    }\n",
       "\n",
       "    .dataframe tbody tr th {\n",
       "        vertical-align: top;\n",
       "    }\n",
       "\n",
       "    .dataframe thead th {\n",
       "        text-align: right;\n",
       "    }\n",
       "</style>\n",
       "<table border=\"1\" class=\"dataframe\">\n",
       "  <thead>\n",
       "    <tr style=\"text-align: right;\">\n",
       "      <th></th>\n",
       "      <th>id</th>\n",
       "      <th>name</th>\n",
       "      <th>address</th>\n",
       "      <th>postcode</th>\n",
       "    </tr>\n",
       "  </thead>\n",
       "  <tbody>\n",
       "    <tr>\n",
       "      <th>40</th>\n",
       "      <td>7a4a607a43052d1010b1770404ed9665</td>\n",
       "      <td>gregn spoon restaurant</td>\n",
       "      <td>52 geren lane</td>\n",
       "      <td>SW4 2GE</td>\n",
       "    </tr>\n",
       "  </tbody>\n",
       "</table>\n",
       "</div>"
      ],
      "text/plain": [
       "                                  id                    name        address  \\\n",
       "40  7a4a607a43052d1010b1770404ed9665  gregn spoon restaurant  52 geren lane   \n",
       "\n",
       "   postcode  \n",
       "40  SW4 2GE  "
      ]
     },
     "metadata": {},
     "output_type": "display_data"
    },
    {
     "name": "stdout",
     "output_type": "stream",
     "text": [
      "Group ID: 7b200f7cb60ba5e8aaa88e49523174af\n"
     ]
    },
    {
     "data": {
      "text/html": [
       "<div>\n",
       "<style scoped>\n",
       "    .dataframe tbody tr th:only-of-type {\n",
       "        vertical-align: middle;\n",
       "    }\n",
       "\n",
       "    .dataframe tbody tr th {\n",
       "        vertical-align: top;\n",
       "    }\n",
       "\n",
       "    .dataframe thead th {\n",
       "        text-align: right;\n",
       "    }\n",
       "</style>\n",
       "<table border=\"1\" class=\"dataframe\">\n",
       "  <thead>\n",
       "    <tr style=\"text-align: right;\">\n",
       "      <th></th>\n",
       "      <th>id</th>\n",
       "      <th>name</th>\n",
       "      <th>address</th>\n",
       "      <th>postcode</th>\n",
       "    </tr>\n",
       "  </thead>\n",
       "  <tbody>\n",
       "    <tr>\n",
       "      <th>41</th>\n",
       "      <td>7b200f7cb60ba5e8aaa88e49523174af</td>\n",
       "      <td>maple brirdge bistro</td>\n",
       "      <td>96 college rd</td>\n",
       "      <td>SW4 7XK</td>\n",
       "    </tr>\n",
       "  </tbody>\n",
       "</table>\n",
       "</div>"
      ],
      "text/plain": [
       "                                  id                  name        address  \\\n",
       "41  7b200f7cb60ba5e8aaa88e49523174af  maple brirdge bistro  96 college rd   \n",
       "\n",
       "   postcode  \n",
       "41  SW4 7XK  "
      ]
     },
     "metadata": {},
     "output_type": "display_data"
    },
    {
     "name": "stdout",
     "output_type": "stream",
     "text": [
      "Group ID: 85cd86d00f43afec212dcc1ab2951d85\n"
     ]
    },
    {
     "data": {
      "text/html": [
       "<div>\n",
       "<style scoped>\n",
       "    .dataframe tbody tr th:only-of-type {\n",
       "        vertical-align: middle;\n",
       "    }\n",
       "\n",
       "    .dataframe tbody tr th {\n",
       "        vertical-align: top;\n",
       "    }\n",
       "\n",
       "    .dataframe thead th {\n",
       "        text-align: right;\n",
       "    }\n",
       "</style>\n",
       "<table border=\"1\" class=\"dataframe\">\n",
       "  <thead>\n",
       "    <tr style=\"text-align: right;\">\n",
       "      <th></th>\n",
       "      <th>id</th>\n",
       "      <th>name</th>\n",
       "      <th>address</th>\n",
       "      <th>postcode</th>\n",
       "    </tr>\n",
       "  </thead>\n",
       "  <tbody>\n",
       "    <tr>\n",
       "      <th>42</th>\n",
       "      <td>fcc1cf5157e1fded9b74cc1fda9a5281</td>\n",
       "      <td>happy bridge cafe</td>\n",
       "      <td>93 college road</td>\n",
       "      <td>SW4 8GM</td>\n",
       "    </tr>\n",
       "    <tr>\n",
       "      <th>43</th>\n",
       "      <td>85cd86d00f43afec212dcc1ab2951d85</td>\n",
       "      <td>happy bridge café</td>\n",
       "      <td>93 college road</td>\n",
       "      <td>SW4 8GM</td>\n",
       "    </tr>\n",
       "    <tr>\n",
       "      <th>44</th>\n",
       "      <td>196dd10415f91db22407665ec1e0a6ea</td>\n",
       "      <td>happy bridge acfe</td>\n",
       "      <td>93 college rd</td>\n",
       "      <td>SW4 8GM</td>\n",
       "    </tr>\n",
       "  </tbody>\n",
       "</table>\n",
       "</div>"
      ],
      "text/plain": [
       "                                  id               name          address  \\\n",
       "42  fcc1cf5157e1fded9b74cc1fda9a5281  happy bridge cafe  93 college road   \n",
       "43  85cd86d00f43afec212dcc1ab2951d85  happy bridge café  93 college road   \n",
       "44  196dd10415f91db22407665ec1e0a6ea  happy bridge acfe    93 college rd   \n",
       "\n",
       "   postcode  \n",
       "42  SW4 8GM  \n",
       "43  SW4 8GM  \n",
       "44  SW4 8GM  "
      ]
     },
     "metadata": {},
     "output_type": "display_data"
    },
    {
     "name": "stdout",
     "output_type": "stream",
     "text": [
      "Group ID: a0375e1f98da5112b291ce24039fd515\n"
     ]
    },
    {
     "data": {
      "text/html": [
       "<div>\n",
       "<style scoped>\n",
       "    .dataframe tbody tr th:only-of-type {\n",
       "        vertical-align: middle;\n",
       "    }\n",
       "\n",
       "    .dataframe tbody tr th {\n",
       "        vertical-align: top;\n",
       "    }\n",
       "\n",
       "    .dataframe thead th {\n",
       "        text-align: right;\n",
       "    }\n",
       "</style>\n",
       "<table border=\"1\" class=\"dataframe\">\n",
       "  <thead>\n",
       "    <tr style=\"text-align: right;\">\n",
       "      <th></th>\n",
       "      <th>id</th>\n",
       "      <th>name</th>\n",
       "      <th>address</th>\n",
       "      <th>postcode</th>\n",
       "    </tr>\n",
       "  </thead>\n",
       "  <tbody>\n",
       "    <tr>\n",
       "      <th>45</th>\n",
       "      <td>a0375e1f98da5112b291ce24039fd515</td>\n",
       "      <td>maple palace café</td>\n",
       "      <td>58 cgllege road</td>\n",
       "      <td>SW4 5VA</td>\n",
       "    </tr>\n",
       "  </tbody>\n",
       "</table>\n",
       "</div>"
      ],
      "text/plain": [
       "                                  id               name          address  \\\n",
       "45  a0375e1f98da5112b291ce24039fd515  maple palace café  58 cgllege road   \n",
       "\n",
       "   postcode  \n",
       "45  SW4 5VA  "
      ]
     },
     "metadata": {},
     "output_type": "display_data"
    },
    {
     "name": "stdout",
     "output_type": "stream",
     "text": [
      "Group ID: ab22c25215c4dba875709a5f909d1726\n"
     ]
    },
    {
     "data": {
      "text/html": [
       "<div>\n",
       "<style scoped>\n",
       "    .dataframe tbody tr th:only-of-type {\n",
       "        vertical-align: middle;\n",
       "    }\n",
       "\n",
       "    .dataframe tbody tr th {\n",
       "        vertical-align: top;\n",
       "    }\n",
       "\n",
       "    .dataframe thead th {\n",
       "        text-align: right;\n",
       "    }\n",
       "</style>\n",
       "<table border=\"1\" class=\"dataframe\">\n",
       "  <thead>\n",
       "    <tr style=\"text-align: right;\">\n",
       "      <th></th>\n",
       "      <th>id</th>\n",
       "      <th>name</th>\n",
       "      <th>address</th>\n",
       "      <th>postcode</th>\n",
       "    </tr>\n",
       "  </thead>\n",
       "  <tbody>\n",
       "    <tr>\n",
       "      <th>46</th>\n",
       "      <td>ab22c25215c4dba875709a5f909d1726</td>\n",
       "      <td>rier bistro grill</td>\n",
       "      <td>9 chruch street</td>\n",
       "      <td>SW4 4UZ</td>\n",
       "    </tr>\n",
       "  </tbody>\n",
       "</table>\n",
       "</div>"
      ],
      "text/plain": [
       "                                  id               name          address  \\\n",
       "46  ab22c25215c4dba875709a5f909d1726  rier bistro grill  9 chruch street   \n",
       "\n",
       "   postcode  \n",
       "46  SW4 4UZ  "
      ]
     },
     "metadata": {},
     "output_type": "display_data"
    },
    {
     "name": "stdout",
     "output_type": "stream",
     "text": [
      "Group ID: adf5dd7f4e50223eb949e7967ae8fa17\n"
     ]
    },
    {
     "data": {
      "text/html": [
       "<div>\n",
       "<style scoped>\n",
       "    .dataframe tbody tr th:only-of-type {\n",
       "        vertical-align: middle;\n",
       "    }\n",
       "\n",
       "    .dataframe tbody tr th {\n",
       "        vertical-align: top;\n",
       "    }\n",
       "\n",
       "    .dataframe thead th {\n",
       "        text-align: right;\n",
       "    }\n",
       "</style>\n",
       "<table border=\"1\" class=\"dataframe\">\n",
       "  <thead>\n",
       "    <tr style=\"text-align: right;\">\n",
       "      <th></th>\n",
       "      <th>id</th>\n",
       "      <th>name</th>\n",
       "      <th>address</th>\n",
       "      <th>postcode</th>\n",
       "    </tr>\n",
       "  </thead>\n",
       "  <tbody>\n",
       "    <tr>\n",
       "      <th>47</th>\n",
       "      <td>adf5dd7f4e50223eb949e7967ae8fa17</td>\n",
       "      <td>oakopalace café</td>\n",
       "      <td>70 victoria rd</td>\n",
       "      <td>SW4 5KR</td>\n",
       "    </tr>\n",
       "  </tbody>\n",
       "</table>\n",
       "</div>"
      ],
      "text/plain": [
       "                                  id             name         address postcode\n",
       "47  adf5dd7f4e50223eb949e7967ae8fa17  oakopalace café  70 victoria rd  SW4 5KR"
      ]
     },
     "metadata": {},
     "output_type": "display_data"
    },
    {
     "name": "stdout",
     "output_type": "stream",
     "text": [
      "Group ID: af5b563d6cb83709ea4f6bf5d94001b9\n"
     ]
    },
    {
     "data": {
      "text/html": [
       "<div>\n",
       "<style scoped>\n",
       "    .dataframe tbody tr th:only-of-type {\n",
       "        vertical-align: middle;\n",
       "    }\n",
       "\n",
       "    .dataframe tbody tr th {\n",
       "        vertical-align: top;\n",
       "    }\n",
       "\n",
       "    .dataframe thead th {\n",
       "        text-align: right;\n",
       "    }\n",
       "</style>\n",
       "<table border=\"1\" class=\"dataframe\">\n",
       "  <thead>\n",
       "    <tr style=\"text-align: right;\">\n",
       "      <th></th>\n",
       "      <th>id</th>\n",
       "      <th>name</th>\n",
       "      <th>address</th>\n",
       "      <th>postcode</th>\n",
       "    </tr>\n",
       "  </thead>\n",
       "  <tbody>\n",
       "    <tr>\n",
       "      <th>48</th>\n",
       "      <td>af5b563d6cb83709ea4f6bf5d94001b9</td>\n",
       "      <td>city spono bistro</td>\n",
       "      <td>56park rd</td>\n",
       "      <td>SW4 8AS</td>\n",
       "    </tr>\n",
       "  </tbody>\n",
       "</table>\n",
       "</div>"
      ],
      "text/plain": [
       "                                  id               name    address postcode\n",
       "48  af5b563d6cb83709ea4f6bf5d94001b9  city spono bistro  56park rd  SW4 8AS"
      ]
     },
     "metadata": {},
     "output_type": "display_data"
    },
    {
     "name": "stdout",
     "output_type": "stream",
     "text": [
      "Group ID: b4941ace111cbd25bc01342bfbbb1103\n"
     ]
    },
    {
     "data": {
      "text/html": [
       "<div>\n",
       "<style scoped>\n",
       "    .dataframe tbody tr th:only-of-type {\n",
       "        vertical-align: middle;\n",
       "    }\n",
       "\n",
       "    .dataframe tbody tr th {\n",
       "        vertical-align: top;\n",
       "    }\n",
       "\n",
       "    .dataframe thead th {\n",
       "        text-align: right;\n",
       "    }\n",
       "</style>\n",
       "<table border=\"1\" class=\"dataframe\">\n",
       "  <thead>\n",
       "    <tr style=\"text-align: right;\">\n",
       "      <th></th>\n",
       "      <th>id</th>\n",
       "      <th>name</th>\n",
       "      <th>address</th>\n",
       "      <th>postcode</th>\n",
       "    </tr>\n",
       "  </thead>\n",
       "  <tbody>\n",
       "    <tr>\n",
       "      <th>49</th>\n",
       "      <td>b4941ace111cbd25bc01342bfbbb1103</td>\n",
       "      <td>maple palace cafqe</td>\n",
       "      <td>58 ollege rd</td>\n",
       "      <td>SW4 5VA</td>\n",
       "    </tr>\n",
       "  </tbody>\n",
       "</table>\n",
       "</div>"
      ],
      "text/plain": [
       "                                  id                name       address  \\\n",
       "49  b4941ace111cbd25bc01342bfbbb1103  maple palace cafqe  58 ollege rd   \n",
       "\n",
       "   postcode  \n",
       "49  SW4 5VA  "
      ]
     },
     "metadata": {},
     "output_type": "display_data"
    },
    {
     "name": "stdout",
     "output_type": "stream",
     "text": [
      "Group ID: c49d2c9848d960906ff4bd4220be2cdd\n"
     ]
    },
    {
     "data": {
      "text/html": [
       "<div>\n",
       "<style scoped>\n",
       "    .dataframe tbody tr th:only-of-type {\n",
       "        vertical-align: middle;\n",
       "    }\n",
       "\n",
       "    .dataframe tbody tr th {\n",
       "        vertical-align: top;\n",
       "    }\n",
       "\n",
       "    .dataframe thead th {\n",
       "        text-align: right;\n",
       "    }\n",
       "</style>\n",
       "<table border=\"1\" class=\"dataframe\">\n",
       "  <thead>\n",
       "    <tr style=\"text-align: right;\">\n",
       "      <th></th>\n",
       "      <th>id</th>\n",
       "      <th>name</th>\n",
       "      <th>address</th>\n",
       "      <th>postcode</th>\n",
       "    </tr>\n",
       "  </thead>\n",
       "  <tbody>\n",
       "    <tr>\n",
       "      <th>50</th>\n",
       "      <td>c49d2c9848d960906ff4bd4220be2cdd</td>\n",
       "      <td>oak bistro cafe</td>\n",
       "      <td>48 park road</td>\n",
       "      <td>SW4 9YX</td>\n",
       "    </tr>\n",
       "  </tbody>\n",
       "</table>\n",
       "</div>"
      ],
      "text/plain": [
       "                                  id             name       address postcode\n",
       "50  c49d2c9848d960906ff4bd4220be2cdd  oak bistro cafe  48 park road  SW4 9YX"
      ]
     },
     "metadata": {},
     "output_type": "display_data"
    },
    {
     "name": "stdout",
     "output_type": "stream",
     "text": [
      "Group ID: cb9e0d07f284d1789ee971efe82c4b74\n"
     ]
    },
    {
     "data": {
      "text/html": [
       "<div>\n",
       "<style scoped>\n",
       "    .dataframe tbody tr th:only-of-type {\n",
       "        vertical-align: middle;\n",
       "    }\n",
       "\n",
       "    .dataframe tbody tr th {\n",
       "        vertical-align: top;\n",
       "    }\n",
       "\n",
       "    .dataframe thead th {\n",
       "        text-align: right;\n",
       "    }\n",
       "</style>\n",
       "<table border=\"1\" class=\"dataframe\">\n",
       "  <thead>\n",
       "    <tr style=\"text-align: right;\">\n",
       "      <th></th>\n",
       "      <th>id</th>\n",
       "      <th>name</th>\n",
       "      <th>address</th>\n",
       "      <th>postcode</th>\n",
       "    </tr>\n",
       "  </thead>\n",
       "  <tbody>\n",
       "    <tr>\n",
       "      <th>51</th>\n",
       "      <td>cb9e0d07f284d1789ee971efe82c4b74</td>\n",
       "      <td>maple bridge bistro</td>\n",
       "      <td>96 colnege road</td>\n",
       "      <td>SW4 7XK</td>\n",
       "    </tr>\n",
       "  </tbody>\n",
       "</table>\n",
       "</div>"
      ],
      "text/plain": [
       "                                  id                 name          address  \\\n",
       "51  cb9e0d07f284d1789ee971efe82c4b74  maple bridge bistro  96 colnege road   \n",
       "\n",
       "   postcode  \n",
       "51  SW4 7XK  "
      ]
     },
     "metadata": {},
     "output_type": "display_data"
    },
    {
     "name": "stdout",
     "output_type": "stream",
     "text": [
      "Group ID: dde7ac077692a5b568a67742e6a830ac\n"
     ]
    },
    {
     "data": {
      "text/html": [
       "<div>\n",
       "<style scoped>\n",
       "    .dataframe tbody tr th:only-of-type {\n",
       "        vertical-align: middle;\n",
       "    }\n",
       "\n",
       "    .dataframe tbody tr th {\n",
       "        vertical-align: top;\n",
       "    }\n",
       "\n",
       "    .dataframe thead th {\n",
       "        text-align: right;\n",
       "    }\n",
       "</style>\n",
       "<table border=\"1\" class=\"dataframe\">\n",
       "  <thead>\n",
       "    <tr style=\"text-align: right;\">\n",
       "      <th></th>\n",
       "      <th>id</th>\n",
       "      <th>name</th>\n",
       "      <th>address</th>\n",
       "      <th>postcode</th>\n",
       "    </tr>\n",
       "  </thead>\n",
       "  <tbody>\n",
       "    <tr>\n",
       "      <th>52</th>\n",
       "      <td>dde7ac077692a5b568a67742e6a830ac</td>\n",
       "      <td>mavple bridge bistro</td>\n",
       "      <td>96 collegv road</td>\n",
       "      <td>SW4 7XK</td>\n",
       "    </tr>\n",
       "  </tbody>\n",
       "</table>\n",
       "</div>"
      ],
      "text/plain": [
       "                                  id                  name          address  \\\n",
       "52  dde7ac077692a5b568a67742e6a830ac  mavple bridge bistro  96 collegv road   \n",
       "\n",
       "   postcode  \n",
       "52  SW4 7XK  "
      ]
     },
     "metadata": {},
     "output_type": "display_data"
    },
    {
     "name": "stdout",
     "output_type": "stream",
     "text": [
      "Group ID: e50283a60431bdbe36ba28b681b25300\n"
     ]
    },
    {
     "data": {
      "text/html": [
       "<div>\n",
       "<style scoped>\n",
       "    .dataframe tbody tr th:only-of-type {\n",
       "        vertical-align: middle;\n",
       "    }\n",
       "\n",
       "    .dataframe tbody tr th {\n",
       "        vertical-align: top;\n",
       "    }\n",
       "\n",
       "    .dataframe thead th {\n",
       "        text-align: right;\n",
       "    }\n",
       "</style>\n",
       "<table border=\"1\" class=\"dataframe\">\n",
       "  <thead>\n",
       "    <tr style=\"text-align: right;\">\n",
       "      <th></th>\n",
       "      <th>id</th>\n",
       "      <th>name</th>\n",
       "      <th>address</th>\n",
       "      <th>postcode</th>\n",
       "    </tr>\n",
       "  </thead>\n",
       "  <tbody>\n",
       "    <tr>\n",
       "      <th>53</th>\n",
       "      <td>e50283a60431bdbe36ba28b681b25300</td>\n",
       "      <td>happy bridge café</td>\n",
       "      <td>93 collegte road</td>\n",
       "      <td>SW4 8GM</td>\n",
       "    </tr>\n",
       "  </tbody>\n",
       "</table>\n",
       "</div>"
      ],
      "text/plain": [
       "                                  id               name           address  \\\n",
       "53  e50283a60431bdbe36ba28b681b25300  happy bridge café  93 collegte road   \n",
       "\n",
       "   postcode  \n",
       "53  SW4 8GM  "
      ]
     },
     "metadata": {},
     "output_type": "display_data"
    },
    {
     "name": "stdout",
     "output_type": "stream",
     "text": [
      "Group ID: e5d748bd9df62ea5710cb342953e1456\n"
     ]
    },
    {
     "data": {
      "text/html": [
       "<div>\n",
       "<style scoped>\n",
       "    .dataframe tbody tr th:only-of-type {\n",
       "        vertical-align: middle;\n",
       "    }\n",
       "\n",
       "    .dataframe tbody tr th {\n",
       "        vertical-align: top;\n",
       "    }\n",
       "\n",
       "    .dataframe thead th {\n",
       "        text-align: right;\n",
       "    }\n",
       "</style>\n",
       "<table border=\"1\" class=\"dataframe\">\n",
       "  <thead>\n",
       "    <tr style=\"text-align: right;\">\n",
       "      <th></th>\n",
       "      <th>id</th>\n",
       "      <th>name</th>\n",
       "      <th>address</th>\n",
       "      <th>postcode</th>\n",
       "    </tr>\n",
       "  </thead>\n",
       "  <tbody>\n",
       "    <tr>\n",
       "      <th>54</th>\n",
       "      <td>e5d748bd9df62ea5710cb342953e1456</td>\n",
       "      <td>green table kitchen</td>\n",
       "      <td>5 gree lane</td>\n",
       "      <td>SW4 7GF</td>\n",
       "    </tr>\n",
       "  </tbody>\n",
       "</table>\n",
       "</div>"
      ],
      "text/plain": [
       "                                  id                 name      address  \\\n",
       "54  e5d748bd9df62ea5710cb342953e1456  green table kitchen  5 gree lane   \n",
       "\n",
       "   postcode  \n",
       "54  SW4 7GF  "
      ]
     },
     "metadata": {},
     "output_type": "display_data"
    },
    {
     "name": "stdout",
     "output_type": "stream",
     "text": [
      "Group ID: e97ca3f4e4ee26f55b4f1e9e58ca0182\n"
     ]
    },
    {
     "data": {
      "text/html": [
       "<div>\n",
       "<style scoped>\n",
       "    .dataframe tbody tr th:only-of-type {\n",
       "        vertical-align: middle;\n",
       "    }\n",
       "\n",
       "    .dataframe tbody tr th {\n",
       "        vertical-align: top;\n",
       "    }\n",
       "\n",
       "    .dataframe thead th {\n",
       "        text-align: right;\n",
       "    }\n",
       "</style>\n",
       "<table border=\"1\" class=\"dataframe\">\n",
       "  <thead>\n",
       "    <tr style=\"text-align: right;\">\n",
       "      <th></th>\n",
       "      <th>id</th>\n",
       "      <th>name</th>\n",
       "      <th>address</th>\n",
       "      <th>postcode</th>\n",
       "    </tr>\n",
       "  </thead>\n",
       "  <tbody>\n",
       "    <tr>\n",
       "      <th>55</th>\n",
       "      <td>e97ca3f4e4ee26f55b4f1e9e58ca0182</td>\n",
       "      <td>maple palaceecafe</td>\n",
       "      <td>58 college road</td>\n",
       "      <td>SW4 5VA</td>\n",
       "    </tr>\n",
       "  </tbody>\n",
       "</table>\n",
       "</div>"
      ],
      "text/plain": [
       "                                  id               name          address  \\\n",
       "55  e97ca3f4e4ee26f55b4f1e9e58ca0182  maple palaceecafe  58 college road   \n",
       "\n",
       "   postcode  \n",
       "55  SW4 5VA  "
      ]
     },
     "metadata": {},
     "output_type": "display_data"
    },
    {
     "name": "stdout",
     "output_type": "stream",
     "text": [
      "Group ID: f3156b06ce6035b6059ac0a78905ea28\n"
     ]
    },
    {
     "data": {
      "text/html": [
       "<div>\n",
       "<style scoped>\n",
       "    .dataframe tbody tr th:only-of-type {\n",
       "        vertical-align: middle;\n",
       "    }\n",
       "\n",
       "    .dataframe tbody tr th {\n",
       "        vertical-align: top;\n",
       "    }\n",
       "\n",
       "    .dataframe thead th {\n",
       "        text-align: right;\n",
       "    }\n",
       "</style>\n",
       "<table border=\"1\" class=\"dataframe\">\n",
       "  <thead>\n",
       "    <tr style=\"text-align: right;\">\n",
       "      <th></th>\n",
       "      <th>id</th>\n",
       "      <th>name</th>\n",
       "      <th>address</th>\n",
       "      <th>postcode</th>\n",
       "    </tr>\n",
       "  </thead>\n",
       "  <tbody>\n",
       "    <tr>\n",
       "      <th>56</th>\n",
       "      <td>f3156b06ce6035b6059ac0a78905ea28</td>\n",
       "      <td>urban table restaurant</td>\n",
       "      <td>31 college road</td>\n",
       "      <td>SW4 2CM</td>\n",
       "    </tr>\n",
       "  </tbody>\n",
       "</table>\n",
       "</div>"
      ],
      "text/plain": [
       "                                  id                    name          address  \\\n",
       "56  f3156b06ce6035b6059ac0a78905ea28  urban table restaurant  31 college road   \n",
       "\n",
       "   postcode  \n",
       "56  SW4 2CM  "
      ]
     },
     "metadata": {},
     "output_type": "display_data"
    },
    {
     "name": "stdout",
     "output_type": "stream",
     "text": [
      "Group ID: fb2a3b2c39661b455e59418607c213db\n"
     ]
    },
    {
     "data": {
      "text/html": [
       "<div>\n",
       "<style scoped>\n",
       "    .dataframe tbody tr th:only-of-type {\n",
       "        vertical-align: middle;\n",
       "    }\n",
       "\n",
       "    .dataframe tbody tr th {\n",
       "        vertical-align: top;\n",
       "    }\n",
       "\n",
       "    .dataframe thead th {\n",
       "        text-align: right;\n",
       "    }\n",
       "</style>\n",
       "<table border=\"1\" class=\"dataframe\">\n",
       "  <thead>\n",
       "    <tr style=\"text-align: right;\">\n",
       "      <th></th>\n",
       "      <th>id</th>\n",
       "      <th>name</th>\n",
       "      <th>address</th>\n",
       "      <th>postcode</th>\n",
       "    </tr>\n",
       "  </thead>\n",
       "  <tbody>\n",
       "    <tr>\n",
       "      <th>57</th>\n",
       "      <td>fb2a3b2c39661b455e59418607c213db</td>\n",
       "      <td>spice fork inn</td>\n",
       "      <td>82 park road</td>\n",
       "      <td>SW4 9SE</td>\n",
       "    </tr>\n",
       "    <tr>\n",
       "      <th>58</th>\n",
       "      <td>45a1ab6681dbc814b4c077274cd97b6c</td>\n",
       "      <td>spice fork ibn</td>\n",
       "      <td>82 park rxoad</td>\n",
       "      <td>SW4 9SE</td>\n",
       "    </tr>\n",
       "  </tbody>\n",
       "</table>\n",
       "</div>"
      ],
      "text/plain": [
       "                                  id            name        address postcode\n",
       "57  fb2a3b2c39661b455e59418607c213db  spice fork inn   82 park road  SW4 9SE\n",
       "58  45a1ab6681dbc814b4c077274cd97b6c  spice fork ibn  82 park rxoad  SW4 9SE"
      ]
     },
     "metadata": {},
     "output_type": "display_data"
    },
    {
     "name": "stdout",
     "output_type": "stream",
     "text": [
      "Group ID: fc1b6b18758f3e9047cf1849d8918842\n"
     ]
    },
    {
     "data": {
      "text/html": [
       "<div>\n",
       "<style scoped>\n",
       "    .dataframe tbody tr th:only-of-type {\n",
       "        vertical-align: middle;\n",
       "    }\n",
       "\n",
       "    .dataframe tbody tr th {\n",
       "        vertical-align: top;\n",
       "    }\n",
       "\n",
       "    .dataframe thead th {\n",
       "        text-align: right;\n",
       "    }\n",
       "</style>\n",
       "<table border=\"1\" class=\"dataframe\">\n",
       "  <thead>\n",
       "    <tr style=\"text-align: right;\">\n",
       "      <th></th>\n",
       "      <th>id</th>\n",
       "      <th>name</th>\n",
       "      <th>address</th>\n",
       "      <th>postcode</th>\n",
       "    </tr>\n",
       "  </thead>\n",
       "  <tbody>\n",
       "    <tr>\n",
       "      <th>59</th>\n",
       "      <td>fc1b6b18758f3e9047cf1849d8918842</td>\n",
       "      <td>golden corner restaurant</td>\n",
       "      <td>46 church road</td>\n",
       "      <td>SW4 5US</td>\n",
       "    </tr>\n",
       "  </tbody>\n",
       "</table>\n",
       "</div>"
      ],
      "text/plain": [
       "                                  id                      name  \\\n",
       "59  fc1b6b18758f3e9047cf1849d8918842  golden corner restaurant   \n",
       "\n",
       "           address postcode  \n",
       "59  46 church road  SW4 5US  "
      ]
     },
     "metadata": {},
     "output_type": "display_data"
    }
   ],
   "source": [
    "for group_id, group_df in group.groupby('group_id'):\n",
    "    print(f'Group ID: {group_id}')\n",
    "    display(group_df[['id', 'name', 'address', 'postcode']])"
   ]
  },
  {
   "cell_type": "code",
   "execution_count": null,
   "id": "75ef0538",
   "metadata": {},
   "outputs": [],
   "source": []
  }
 ],
 "metadata": {
  "kernelspec": {
   "display_name": ".venv",
   "language": "python",
   "name": "python3"
  },
  "language_info": {
   "codemirror_mode": {
    "name": "ipython",
    "version": 3
   },
   "file_extension": ".py",
   "mimetype": "text/x-python",
   "name": "python",
   "nbconvert_exporter": "python",
   "pygments_lexer": "ipython3",
   "version": "3.9.6"
  }
 },
 "nbformat": 4,
 "nbformat_minor": 5
}
